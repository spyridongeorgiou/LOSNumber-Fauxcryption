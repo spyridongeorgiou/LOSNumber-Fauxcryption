{
 "cells": [
  {
   "cell_type": "code",
   "execution_count": 109,
   "metadata": {},
   "outputs": [
    {
     "name": "stdout",
     "output_type": "stream",
     "text": [
      "FADIHFBAE\n"
     ]
    }
   ],
   "source": [
    "Text2Value = \"50387 51 04\"\n",
    "LOSNummer = Text2Value\n",
    "LOSNummerENC = LOSNummer.replace(\"L\",\"\")\n",
    "LOSNummerENC = LOSNummer.replace(\" \",\"\")\n",
    "LOSNummerENC = list(LOSNummerENC)\n",
    "\n",
    "\n",
    "Alphabet={0:\"A\",1:\"B\",2:\"C\",3:\"D\",4:\"E\",5:\"F\",6:\"G\",7:\"H\",8:\"I\",9:\"J\"}\n",
    "\n",
    "def encrypter():\n",
    "    try:\n",
    "        for index, Value in enumerate(LOSNummerENC): # loop through the variable while return the current index aswell as the current value\n",
    "            Value = int(Value) # turn the current Value within LOSNummerENC to int()\n",
    "            index = int(index) # turn the current Value within LOSNummerENC to int()\n",
    "            if Value in list(Alphabet.keys()): # if the current Value is within the Alphabet key list \n",
    "                LOSNummerENC[index] = Alphabet.get(Value) # replace the current Value with the preassigned key/value pair\n",
    "    except ValueError:\n",
    "        return\n",
    "encrypter()\n",
    "\n",
    "LOSNummerENC = ''.join(LOSNummerENC)\n",
    "print(LOSNummerENC)"
   ]
  }
 ],
 "metadata": {
  "kernelspec": {
   "display_name": "Python 3.10.0 64-bit",
   "language": "python",
   "name": "python3"
  },
  "language_info": {
   "codemirror_mode": {
    "name": "ipython",
    "version": 3
   },
   "file_extension": ".py",
   "mimetype": "text/x-python",
   "name": "python",
   "nbconvert_exporter": "python",
   "pygments_lexer": "ipython3",
   "version": "3.10.0"
  },
  "orig_nbformat": 4,
  "vscode": {
   "interpreter": {
    "hash": "26de051ba29f2982a8de78e945f0abaf191376122a1563185a90213a26c5da77"
   }
  }
 },
 "nbformat": 4,
 "nbformat_minor": 2
}
