{
 "cells": [
  {
   "attachments": {},
   "cell_type": "markdown",
   "metadata": {},
   "source": [
    "### v1 - Alles verschlüsseln bzw. mit Erzeugernummer"
   ]
  },
  {
   "cell_type": "code",
   "execution_count": 1,
   "metadata": {
    "vscode": {
     "languageId": "powershell"
    }
   },
   "outputs": [
    {
     "name": "stdout",
     "output_type": "stream",
     "text": [
      "FADIHFBAE\n"
     ]
    }
   ],
   "source": [
    "#NOTE: Skript v1\n",
    "##Vorgaben von NiceLabel:\n",
    "##Make sure that all variables used in the script have values.\n",
    "##The result of the script must be saved in the 'Result'\n",
    "##variable. Default script will return value \"0\"\n",
    "##Make sure that all variables used in the script have values.\n",
    "##The result of the script must be saved in the 'Result'\n",
    "##variable. Default script will return value \"0\"\n",
    "\n",
    "Text2Value = \"50387 51 04\"\n",
    "LOSNummer = Text2Value\n",
    "LOSNummerENC = LOSNummer.replace(\"L\",\"\")\n",
    "LOSNummerENC = LOSNummer.replace(\" \",\"\")\n",
    "LOSNummerENC = list(LOSNummerENC)\n",
    "\n",
    "\n",
    "Alphabet={0:\"A\",1:\"B\",2:\"C\",3:\"D\",4:\"E\",5:\"F\",6:\"G\",7:\"H\",8:\"I\",9:\"J\"}\n",
    "\n",
    "def encrypter():\n",
    "    try:\n",
    "        for index, Value in enumerate(LOSNummerENC): \n",
    "            Value = int(Value) \n",
    "            index = int(index) \n",
    "            if Value in list(Alphabet.keys()): \n",
    "                LOSNummerENC[index] = Alphabet.get(Value)\n",
    "    except ValueError:\n",
    "        return\n",
    "encrypter()\n",
    "\n",
    "LOSNummerENC = ''.join(LOSNummerENC)\n",
    "print(LOSNummerENC)"
   ]
  },
  {
   "attachments": {},
   "cell_type": "markdown",
   "metadata": {},
   "source": [
    "### v2 - Nur Kalenderwoche & numerischen Tag verschlüsseln"
   ]
  },
  {
   "cell_type": "code",
   "execution_count": 2,
   "metadata": {
    "vscode": {
     "languageId": "powershell"
    }
   },
   "outputs": [
    {
     "name": "stdout",
     "output_type": "stream",
     "text": [
      "L AEAC 50387 \n"
     ]
    }
   ],
   "source": [
    "#NOTE: Skript v2\n",
    "##Vorgaben von NiceLabel:\n",
    "##Make sure that all variables used in the script have values.\n",
    "##The result of the script must be saved in the 'Result'\n",
    "##variable. Default script will return value \"0\"\n",
    "##Make sure that all variables used in the script have values.\n",
    "##The result of the script must be saved in the 'Result'\n",
    "##variable. Default script will return value \"0\"\n",
    "\n",
    "#ENC steht für Encrypted\n",
    "\n",
    "Text2Value = \"50387 04 02\"\n",
    "LOSNummer = Text2Value\n",
    "LOSNummerENC = LOSNummer.replace(\"L\",\"\")\n",
    "LOSNummerENC = LOSNummer.replace(\" \",\"\")\n",
    "LOSNummerENC = list(LOSNummerENC)\n",
    "Woche = list(LOSNummerENC[5:7])\n",
    "Tag = list(LOSNummerENC[7:9])\n",
    "LOSNummerENC = Woche + Tag\n",
    "Alphabet={0:\"A\",1:\"B\",2:\"C\",3:\"D\",4:\"E\",5:\"F\",6:\"G\",7:\"H\",8:\"I\",9:\"J\"}\n",
    "def encrypter():\n",
    "\tfor index, Value in enumerate(LOSNummerENC):\n",
    "\t\tValue = int(Value)\n",
    "\t\tindex = int(index)\n",
    "\t\tif Value in list(Alphabet.keys()):\n",
    "\t\t\tLOSNummerENC[index] = Alphabet.get(Value)\n",
    "encrypter()\n",
    "ErzeugerNummer = LOSNummer[0:6]\n",
    "LOSNummerENC = ''.join(LOSNummerENC)\n",
    "LOSNummerResultat = \"L\" + \" \" + LOSNummerENC + \" \" + ErzeugerNummer\n",
    "ResultValue = LOSNummerResultat\n",
    "print(ResultValue)"
   ]
  },
  {
   "attachments": {},
   "cell_type": "markdown",
   "metadata": {},
   "source": [
    "### v3 - Kalenderwoche, numerischen Tag verschlüsseln mit Zufallszahl dazwischen"
   ]
  },
  {
   "cell_type": "code",
   "execution_count": 3,
   "metadata": {
    "vscode": {
     "languageId": "powershell"
    }
   },
   "outputs": [
    {
     "name": "stdout",
     "output_type": "stream",
     "text": [
      "LAE744AF 50387 \n"
     ]
    }
   ],
   "source": [
    "#NOTE: Skript v3 - CURRENT FINAL\n",
    "##Vorgaben von NiceLabel:\n",
    "##Make sure that all variables used in the script have values.\n",
    "##The result of the script must be saved in the 'Result'\n",
    "##variable. Default script will return value \"0\"\n",
    "##Make sure that all variables used in the script have values.\n",
    "##The result of the script must be saved in the 'Result'\n",
    "##variable. Default script will return value \"0\"\n",
    "\n",
    "#ENC steht für Encrypted\n",
    "import random\n",
    "\n",
    "Text2Value = \"50387 04 05\" \n",
    "#LOSNummer besteht aus Userinput der sich wie folgt zusammensetzt: Erzeugernummer + \" \" + Kalenderwoche + \" \" + Numerischer Wochentag\n",
    "LOSNummer = Text2Value \n",
    "#Text2.Value wird von NiceLabel vorgegeben, in diesem Beispiel ist Text2Value nur eine Dummmy Variable \n",
    "LOSNummerENC = LOSNummer.replace(\"L\",\"\") \n",
    "LOSNummerENC = LOSNummer.replace(\" \",\"\")\n",
    "LOSNummerENC = list(LOSNummerENC)\n",
    "Woche = list(LOSNummerENC[5:7]) # Kalenderwoche extrahieren & zu liste konvertieren\n",
    "Tag = list(LOSNummerENC[7:9]) # Numerischen Tag extrahieren & zu liste konvertieren\n",
    "LOSNummerENC = Woche + Tag # Die zu verschlüsselnden Werte zusammenfügen\n",
    "Alphabet={0:\"A\",1:\"B\",2:\"C\",3:\"D\",4:\"E\",5:\"F\",6:\"G\",7:\"H\",8:\"I\",9:\"J\"}\n",
    "def encrypter():\n",
    "\tfor index, Value in enumerate(LOSNummerENC): # For loop der den Index & Wert mithilfe von enumerate() zurückgibt\n",
    "\t\tValue = int(Value) #Konvertieren von str in int\n",
    "\t\tindex = int(index)\n",
    "\t\tif Value in list(Alphabet.keys()): # Wenn die Zahl innerhalb der Alphabet variable zu finden ist\n",
    "\t\t\tLOSNummerENC[index] = Alphabet.get(Value) # Ersetze den Wert von LOSNummerENC beim aktuellen index mit dem entsprechenden Wert von Alphabet\n",
    "\t\t\t#Z. B. 04 --> AE da der index und die Werte innerhalb der Alphabet variable bei 0 anfangen\n",
    "encrypter()\n",
    "ErzeugerNummer = LOSNummer[0:6]\n",
    "WocheENC = LOSNummerENC[0:2]\n",
    "TagENC = LOSNummerENC[2:4]\n",
    "Zufallszahl = str(random.randint(100,999))\n",
    "LOSNummerENC = ''.join(LOSNummerENC) #Zusammenfügen der verschlüsselten Werte \n",
    "LOSNummerResultat = \"L\" + LOSNummerENC[0:2] + Zufallszahl + LOSNummerENC[2:4] + \" \" + ErzeugerNummer # Zusammenfügen der LOSNummer\n",
    "ResultValue = LOSNummerResultat # Result.Value ist die Variable wo das Endergebniss gespeichert wird für NiceLabel\n",
    "print(ResultValue)"
   ]
  },
  {
   "attachments": {},
   "cell_type": "markdown",
   "metadata": {},
   "source": [
    "### v3.1 - Kalenderwoche, numerischen Tag verschlüsseln mit verschlüsselter Zufallszahl dazwischen"
   ]
  },
  {
   "cell_type": "code",
   "execution_count": 4,
   "metadata": {},
   "outputs": [
    {
     "name": "stdout",
     "output_type": "stream",
     "text": [
      "L AEEHCAE 50387 \n"
     ]
    }
   ],
   "source": [
    "#NOTE: Skript v3.1 - mit Verschlüsselung der Zufallszahl - CURRENT FINAL\n",
    "##Vorgaben von NiceLabel:\n",
    "##Make sure that all variables used in the script have values.\n",
    "##The result of the script must be saved in the 'Result'\n",
    "##variable. Default script will return value \"0\"\n",
    "##Make sure that all variables used in the script have values.\n",
    "##The result of the script must be saved in the 'Result'\n",
    "##variable. Default script will return value \"0\"\n",
    "\n",
    "#ENC steht für Encrypted\n",
    "import random\n",
    "\n",
    "Text2Value = \"50387 04 04\" \n",
    "#LOSNummer besteht aus Userinput der sich wie folgt zusammensetzt: Erzeugernummer + \" \" + Kalenderwoche + \" \" + Numerischer Wochentag\n",
    "LOSNummer = Text2Value \n",
    "#Text2.Value wird von NiceLabel vorgegeben, in diesem Beispiel ist Text2Value nur eine Dummmy Variable \n",
    "LOSNummerENC = LOSNummer.replace(\"L\",\"\") \n",
    "LOSNummerENC = LOSNummer.replace(\" \",\"\")\n",
    "LOSNummerENC = list(LOSNummerENC)\n",
    "Woche = list(LOSNummerENC[5:7]) # Kalenderwoche extrahieren & zu liste konvertieren\n",
    "Tag = list(LOSNummerENC[7:9]) # Numerischen Tag extrahieren & zu liste konvertieren\n",
    "Zufallszahl = list(str(random.randint(100,999)))\n",
    "LOSNummerENC = Woche + Tag # Die zu verschlüsselnden Werte zusammenfügen\n",
    "Alphabet={0:\"A\",1:\"B\",2:\"C\",3:\"D\",4:\"E\",5:\"F\",6:\"G\",7:\"H\",8:\"I\",9:\"J\"}\n",
    "def encrypter():\n",
    "\tfor index, Value in enumerate(LOSNummerENC): # For loop der den Index & Wert mithilfe von enumerate() zurückgibt\n",
    "\t\tValue = int(Value) #Konvertieren von str in int\n",
    "\t\tindex = int(index) \n",
    "\t\tif Value in list(Alphabet.keys()): # Wenn die Zahl innerhalb der Alphabet variable zu finden ist\n",
    "\t\t\tLOSNummerENC[index] = Alphabet.get(Value) # Ersetze den Wert von LOSNummerENC beim aktuellen index mit dem entsprechenden Wert von Alphabet\n",
    "\tfor index, Value in enumerate(Zufallszahl):\n",
    "\t\tValue = int(Value) #Konvertieren von str in int\n",
    "\t\tindex = int(index)\n",
    "\t\tif Value in list(Alphabet.keys()):\n",
    "\t\t\t\tZufallszahl[index] = Alphabet.get(Value)\n",
    "\t\t\t#Z. B. 04 --> AE da der index und die Werte innerhalb der Alphabet variable bei 0 anfangen\n",
    "encrypter()\n",
    "ErzeugerNummer = LOSNummer[0:6]\n",
    "WocheENC = ''.join(LOSNummerENC[0:2])\n",
    "TagENC = ''.join(LOSNummerENC[2:4])\n",
    "ZufallszahlENC = Zufallszahl\n",
    "\n",
    "LOSNummerENC = ''.join(LOSNummerENC) #Zusammenfügen der verschlüsselten Werte \n",
    "ZufallszahlENC = ''.join(ZufallszahlENC)\n",
    "LOSNummerResultat = \"L\" + \" \" + str(WocheENC) + str(ZufallszahlENC) + str(TagENC) + \" \" + str(ErzeugerNummer) # Zusammenfügen der LOSNummer\n",
    "ResultValue = LOSNummerResultat # Result.Value ist die Variable wo das Endergebniss gespeichert wird für NiceLabel\n",
    "print(ResultValue)"
   ]
  }
 ],
 "metadata": {
  "kernelspec": {
   "display_name": "Python 3",
   "language": "python",
   "name": "python3"
  },
  "language_info": {
   "codemirror_mode": {
    "name": "ipython",
    "version": 3
   },
   "file_extension": ".py",
   "mimetype": "text/x-python",
   "name": "python",
   "nbconvert_exporter": "python",
   "pygments_lexer": "ipython3",
   "version": "3.11.1"
  },
  "orig_nbformat": 4,
  "vscode": {
   "interpreter": {
    "hash": "3775590bdce77681b07fce2bb6c5c543548cf8c44cd51854eba6c913cc1c5042"
   }
  }
 },
 "nbformat": 4,
 "nbformat_minor": 2
}
