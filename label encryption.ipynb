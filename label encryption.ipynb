{
 "cells": [
  {
   "cell_type": "code",
   "execution_count": 5,
   "metadata": {},
   "outputs": [
    {
     "name": "stdout",
     "output_type": "stream",
     "text": [
      "FADIHFBAE\n"
     ]
    }
   ],
   "source": [
    "Text2Value = \"50387 51 04\"\n",
    "LOSNummer = Text2Value\n",
    "LOSNummerENC = LOSNummer.replace(\"L\",\"\")\n",
    "LOSNummerENC = LOSNummer.replace(\" \",\"\")\n",
    "LOSNummerENC = list(LOSNummerENC)\n",
    "\n",
    "\n",
    "Alphabet={0:\"A\",1:\"B\",2:\"C\",3:\"D\",4:\"E\",5:\"F\",6:\"G\",7:\"H\",8:\"I\",9:\"J\"}\n",
    "\n",
    "def encrypter():\n",
    "    try:\n",
    "        for index, Value in enumerate(LOSNummerENC): # loop through the variable while return the current index aswell as the current value\n",
    "            Value = int(Value) # turn the current Value within LOSNummerENC to int()\n",
    "            index = int(index) # turn the current index of LOSNummerENC to int()\n",
    "            if Value in list(Alphabet.keys()): # if the current Value is within the Alphabet key list \n",
    "                LOSNummerENC[index] = Alphabet.get(Value) # replace the current Value with the preassigned key/value pair\n",
    "    except ValueError:\n",
    "        return\n",
    "encrypter()\n",
    "\n",
    "LOSNummerENC = ''.join(LOSNummerENC)\n",
    "print(LOSNummerENC)"
   ]
  },
  {
   "cell_type": "code",
   "execution_count": 9,
   "metadata": {},
   "outputs": [
    {
     "name": "stdout",
     "output_type": "stream",
     "text": [
      "L AEAC 50387 \n"
     ]
    }
   ],
   "source": [
    "#NOTE: Skript aktuell\n",
    "#Make sure that all variables used in the script have values.\n",
    "#The result of the script must be saved in the 'Result'\n",
    "#variable. Default script will return value \"0\"\n",
    "#Make sure that all variables used in the script have values.\n",
    "#The result of the script must be saved in the 'Result'\n",
    "#variable. Default script will return value \"0\"\n",
    "#import sys\n",
    "\n",
    "Text2Value = \"50387 04 02\"\n",
    "LOSNummer = Text2Value\n",
    "LOSNummerENC = LOSNummer.replace(\"L\",\"\")\n",
    "LOSNummerENC = LOSNummer.replace(\" \",\"\")\n",
    "LOSNummerENC = list(LOSNummerENC)\n",
    "Woche = list(LOSNummerENC[5:7])\n",
    "Tag = list(LOSNummerENC[7:9])\n",
    "LOSNummerENC = Woche + Tag\n",
    "Alphabet={0:\"A\",1:\"B\",2:\"C\",3:\"D\",4:\"E\",5:\"F\",6:\"G\",7:\"H\",8:\"I\",9:\"J\"}\n",
    "def encrypter():\n",
    "\tfor index, Value in enumerate(LOSNummerENC):\n",
    "\t\tValue = int(Value)\n",
    "\t\tindex = int(index)\n",
    "\t\tif Value in list(Alphabet.keys()):\n",
    "\t\t\tLOSNummerENC[index] = Alphabet.get(Value)\n",
    "encrypter()\n",
    "ErzeugerNummer = LOSNummer[0:6]\n",
    "LOSNummerENC = ''.join(LOSNummerENC)\n",
    "LOSNummerResultat = \"L\" + \" \" + LOSNummerENC + \" \" + ErzeugerNummer\n",
    "ResultValue = LOSNummerResultat\n",
    "print(ResultValue)"
   ]
  },
  {
   "cell_type": "code",
   "execution_count": 8,
   "metadata": {},
   "outputs": [
    {
     "name": "stdout",
     "output_type": "stream",
     "text": [
      "['00000000000000000000000000000000000', '44444444444444444444444444444444444']\n",
      "['0', '2']\n",
      "L A22222222222222222222222222222222222AC 50387 \n"
     ]
    }
   ],
   "source": [
    "#NOTE: Skript mit mal\n",
    "#Make sure that all variables used in the script have values.\n",
    "#The result of the script must be saved in the 'Result'\n",
    "#variable. Default script will return value \"0\"\n",
    "#Make sure that all variables used in the script have values.\n",
    "#The result of the script must be saved in the 'Result'\n",
    "#variable. Default script will return value \"0\"\n",
    "#import sys\n",
    "\n",
    "Text2Value = \"50387 04 02\"\n",
    "LOSNummer = Text2Value\n",
    "LOSNummerENC = LOSNummer.replace(\"L\",\"\")\n",
    "LOSNummerENC = LOSNummer.replace(\" \",\"\")\n",
    "LOSNummerENC = list(LOSNummerENC)\n",
    "Woche = list(LOSNummerENC[5:7])\n",
    "for index, wert in enumerate(Woche):\n",
    "    Woche[index] = wert * 35\n",
    "print(Woche)\n",
    "Tag = list(LOSNummerENC[7:9])\n",
    "for index, wert in enumerate(Tag):\n",
    "    Woche[index] = wert * 35\n",
    "print(Tag)\n",
    "LOSNummerENC = Woche + Tag\n",
    "Alphabet={0:\"A\",1:\"B\",2:\"C\",3:\"D\",4:\"E\",5:\"F\",6:\"G\",7:\"H\",8:\"I\",9:\"J\"}\n",
    "def encrypter():\n",
    "\tfor index, Value in enumerate(LOSNummerENC):\n",
    "\t\tValue = int(Value)\n",
    "\t\tindex = int(index)\n",
    "\t\tif Value in list(Alphabet.keys()):\n",
    "\t\t\tLOSNummerENC[index] = Alphabet.get(Value)\n",
    "encrypter()\n",
    "ErzeugerNummer = LOSNummer[0:6]\n",
    "LOSNummerENC = ''.join(LOSNummerENC)\n",
    "LOSNummerResultat = \"L\" + \" \" + LOSNummerENC + \" \" + ErzeugerNummer\n",
    "ResultValue = LOSNummerResultat\n",
    "print(ResultValue)"
   ]
  },
  {
   "cell_type": "code",
   "execution_count": 5,
   "metadata": {},
   "outputs": [
    {
     "name": "stdout",
     "output_type": "stream",
     "text": [
      "LAE649AE 50387 \n"
     ]
    }
   ],
   "source": [
    "#NOTE: CURRENT\n",
    "\n",
    "#Make sure that all variables used in the script have values.\n",
    "#The result of the script must be saved in the 'Result'\n",
    "#variable. Default script will return value \"0\"\n",
    "#Make sure that all variables used in the script have values.\n",
    "#The result of the script must be saved in the 'Result'\n",
    "#variable. Default script will return value \"0\"\n",
    "#import sys\n",
    "import random\n",
    "\n",
    "Text2Value = \"50387 04 04\"\n",
    "LOSNummer = Text2Value\n",
    "LOSNummerENC = LOSNummer.replace(\"L\",\"\")\n",
    "LOSNummerENC = LOSNummer.replace(\" \",\"\")\n",
    "LOSNummerENC = list(LOSNummerENC)\n",
    "Woche = list(LOSNummerENC[5:7])\n",
    "Tag = list(LOSNummerENC[7:9])\n",
    "LOSNummerENC = Woche + Tag \n",
    "Alphabet={0:\"A\",1:\"B\",2:\"C\",3:\"D\",4:\"E\",5:\"F\",6:\"G\",7:\"H\",8:\"I\",9:\"J\"}\n",
    "def encrypter():\n",
    "\tfor index, Value in enumerate(LOSNummerENC):\n",
    "\t\tValue = int(Value)\n",
    "\t\tindex = int(index)\n",
    "\t\tif Value in list(Alphabet.keys()):\n",
    "\t\t\tLOSNummerENC[index] = Alphabet.get(Value)\n",
    "encrypter()\n",
    "ErzeugerNummer = LOSNummer[0:6]\n",
    "LOSNummerENC = ''.join(LOSNummerENC)\n",
    "LOSNummerResultat = \"L\" + LOSNummerENC[0:2] +  str(random.randint(100,999))+ LOSNummerENC[2:4] + \" \" + ErzeugerNummer\n",
    "ResultValue = LOSNummerResultat\n",
    "print(ResultValue)"
   ]
  }
 ],
 "metadata": {
  "kernelspec": {
   "display_name": "Python 3.10.0 64-bit",
   "language": "python",
   "name": "python3"
  },
  "language_info": {
   "codemirror_mode": {
    "name": "ipython",
    "version": 3
   },
   "file_extension": ".py",
   "mimetype": "text/x-python",
   "name": "python",
   "nbconvert_exporter": "python",
   "pygments_lexer": "ipython3",
   "version": "3.10.0"
  },
  "orig_nbformat": 4,
  "vscode": {
   "interpreter": {
    "hash": "26de051ba29f2982a8de78e945f0abaf191376122a1563185a90213a26c5da77"
   }
  }
 },
 "nbformat": 4,
 "nbformat_minor": 2
}
