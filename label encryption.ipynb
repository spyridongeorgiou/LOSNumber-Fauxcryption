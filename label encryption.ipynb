{
 "cells": [
  {
   "cell_type": "code",
   "execution_count": 5,
   "metadata": {},
   "outputs": [
    {
     "name": "stdout",
     "output_type": "stream",
     "text": [
      "FADIHFBAE\n"
     ]
    }
   ],
   "source": [
    "#NOTE: Skript v1\n",
    "Text2Value = \"50387 51 04\"\n",
    "LOSNummer = Text2Value\n",
    "LOSNummerENC = LOSNummer.replace(\"L\",\"\")\n",
    "LOSNummerENC = LOSNummer.replace(\" \",\"\")\n",
    "LOSNummerENC = list(LOSNummerENC)\n",
    "\n",
    "\n",
    "Alphabet={0:\"A\",1:\"B\",2:\"C\",3:\"D\",4:\"E\",5:\"F\",6:\"G\",7:\"H\",8:\"I\",9:\"J\"}\n",
    "\n",
    "def encrypter():\n",
    "    try:\n",
    "        for index, Value in enumerate(LOSNummerENC): # loop through the variable while return the current index aswell as the current value\n",
    "            Value = int(Value) # turn the current Value within LOSNummerENC to int()\n",
    "            index = int(index) # turn the current index of LOSNummerENC to int()\n",
    "            if Value in list(Alphabet.keys()): # if the current Value is within the Alphabet key list \n",
    "                LOSNummerENC[index] = Alphabet.get(Value) # replace the current Value with the preassigned key/value pair\n",
    "    except ValueError:\n",
    "        return\n",
    "encrypter()\n",
    "\n",
    "LOSNummerENC = ''.join(LOSNummerENC)\n",
    "print(LOSNummerENC)"
   ]
  },
  {
   "cell_type": "code",
   "execution_count": 9,
   "metadata": {},
   "outputs": [
    {
     "name": "stdout",
     "output_type": "stream",
     "text": [
      "L AEAC 50387 \n"
     ]
    }
   ],
   "source": [
    "#NOTE: Skript v2\n",
    "#Make sure that all variables used in the script have values.\n",
    "#The result of the script must be saved in the 'Result'\n",
    "#variable. Default script will return value \"0\"\n",
    "#Make sure that all variables used in the script have values.\n",
    "#The result of the script must be saved in the 'Result'\n",
    "#variable. Default script will return value \"0\"\n",
    "#import sys\n",
    "\n",
    "Text2Value = \"50387 04 02\"\n",
    "LOSNummer = Text2Value\n",
    "LOSNummerENC = LOSNummer.replace(\"L\",\"\")\n",
    "LOSNummerENC = LOSNummer.replace(\" \",\"\")\n",
    "LOSNummerENC = list(LOSNummerENC)\n",
    "Woche = list(LOSNummerENC[5:7])\n",
    "Tag = list(LOSNummerENC[7:9])\n",
    "LOSNummerENC = Woche + Tag\n",
    "Alphabet={0:\"A\",1:\"B\",2:\"C\",3:\"D\",4:\"E\",5:\"F\",6:\"G\",7:\"H\",8:\"I\",9:\"J\"}\n",
    "def encrypter():\n",
    "\tfor index, Value in enumerate(LOSNummerENC):\n",
    "\t\tValue = int(Value)\n",
    "\t\tindex = int(index)\n",
    "\t\tif Value in list(Alphabet.keys()):\n",
    "\t\t\tLOSNummerENC[index] = Alphabet.get(Value)\n",
    "encrypter()\n",
    "ErzeugerNummer = LOSNummer[0:6]\n",
    "LOSNummerENC = ''.join(LOSNummerENC)\n",
    "LOSNummerResultat = \"L\" + \" \" + LOSNummerENC + \" \" + ErzeugerNummer\n",
    "ResultValue = LOSNummerResultat\n",
    "print(ResultValue)"
   ]
  },
  {
   "cell_type": "code",
   "execution_count": 11,
   "metadata": {},
   "outputs": [
    {
     "name": "stdout",
     "output_type": "stream",
     "text": [
      "LAE165AF 50387 \n"
     ]
    }
   ],
   "source": [
    "#NOTE: Skript v3 - CURRENT FINAL\n",
    "##Vorgaben von NiceLabel:\n",
    "##Make sure that all variables used in the script have values.\n",
    "##The result of the script must be saved in the 'Result'\n",
    "##variable. Default script will return value \"0\"\n",
    "##Make sure that all variables used in the script have values.\n",
    "##The result of the script must be saved in the 'Result'\n",
    "##variable. Default script will return value \"0\"\n",
    "\n",
    "#ENC steht für Encrypted\n",
    "import random\n",
    "\n",
    "Text2Value = \"50387 04 05\" \n",
    "#LOSNummer besteht aus Userinput der sich wie folgt zusammensetzt Erzeugernummer + \" \" + Kalenderwoche + \" \" + Numerischer Wochentag\n",
    "LOSNummer = Text2Value \n",
    "#Text2.Value wird von NiceLabel vorgegeben, in diesem Beispiel ist Text2Value nur eine Dummmy Variable \n",
    "LOSNummerENC = LOSNummer.replace(\"L\",\"\") \n",
    "LOSNummerENC = LOSNummer.replace(\" \",\"\")\n",
    "LOSNummerENC = list(LOSNummerENC)\n",
    "Woche = list(LOSNummerENC[5:7]) # Kalenderwoche extrahieren & zu liste konvertieren\n",
    "Tag = list(LOSNummerENC[7:9]) # Numerischen Tag extrahieren & zu liste konvertieren\n",
    "LOSNummerENC = Woche + Tag # Die zu verschlüsselnden Werte zusammenfügen\n",
    "Alphabet={0:\"A\",1:\"B\",2:\"C\",3:\"D\",4:\"E\",5:\"F\",6:\"G\",7:\"H\",8:\"I\",9:\"J\"}\n",
    "def encrypter():\n",
    "\tfor index, Value in enumerate(LOSNummerENC): # For loop der den Index & Wert mithilfe von enumerate() zurückgibt\n",
    "\t\tValue = int(Value) #Konvertieren von str in int\n",
    "\t\tindex = int(index)\n",
    "\t\tif Value in list(Alphabet.keys()): # Wenn die Zahl innerhalb der Alphabet variable zu finden ist\n",
    "\t\t\tLOSNummerENC[index] = Alphabet.get(Value) # Ersetze den Wert von LOSNummerENC beim aktuellen index mit dem entsprechenden Wert von Alphabet\n",
    "\t\t\t#Z. B. 04 --> AE da der index und die Werte innerhalb der Alphabet variable bei 0 anfangen\n",
    "encrypter()\n",
    "ErzeugerNummer = LOSNummer[0:6]\n",
    "WocheENC = LOSNummerENC[0:2]\n",
    "TagENC = LOSNummerENC[2:4]\n",
    "Zufallszahl = str(random.randint(100,999))\n",
    "LOSNummerENC = ''.join(LOSNummerENC) #Zusammenfügen der verschlüsselten Werte \n",
    "LOSNummerResultat = \"L\" + LOSNummerENC[0:2] + Zufallszahl + LOSNummerENC[2:4] + \" \" + ErzeugerNummer # Zusammenfügen der LOSNummer\n",
    "ResultValue = LOSNummerResultat # Result.Value ist die Variable wo das Endergebniss gespeichert wird für NiceLabel\n",
    "print(ResultValue)"
   ]
  }
 ],
 "metadata": {
  "kernelspec": {
   "display_name": "Python 3.10.0 64-bit",
   "language": "python",
   "name": "python3"
  },
  "language_info": {
   "codemirror_mode": {
    "name": "ipython",
    "version": 3
   },
   "file_extension": ".py",
   "mimetype": "text/x-python",
   "name": "python",
   "nbconvert_exporter": "python",
   "pygments_lexer": "ipython3",
   "version": "3.10.0"
  },
  "orig_nbformat": 4,
  "vscode": {
   "interpreter": {
    "hash": "26de051ba29f2982a8de78e945f0abaf191376122a1563185a90213a26c5da77"
   }
  }
 },
 "nbformat": 4,
 "nbformat_minor": 2
}
